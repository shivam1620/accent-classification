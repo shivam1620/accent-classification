{
 "cells": [
  {
   "cell_type": "markdown",
   "id": "fa4287d7",
   "metadata": {},
   "source": [
    "<h1 align = center> CS156 </h1>\n",
    "\n",
    "---\n",
    "<h2 align = center> First Pipeline: Classifying Argentinian Accent </h2>\n",
    "\n",
    "---\n",
    "<h3 align = center> Prof. P. Watson </h3>\n",
    "<h3 align = center> 23/02/2024 </h3>\n",
    "\n",
    "---\n"
   ]
  },
  {
   "cell_type": "markdown",
   "id": "f34f0f27",
   "metadata": {},
   "source": [
    "### Problem Definition: Can a Machine Learning Model Identify Argentinian Accent?\n",
    "\n",
    "Ever noticed how accents can make things interesting? They can be charming, surprising, or just plain cool. Think about all the different accents you've heard when you travel or move to a new place – British, Argentinian, Indian, and so on. After a while, all we've got left from these adventures are voice notes from local pals and some awesome memories. I've always been super into accents and got to thinking – could a machine learning model figure out an accent from a bunch of different ones?\n",
    "\n",
    "The Task at Hand\n",
    "For this assignement, I wanted to kick things off with something a bit more straightforward. Can a machine learning model spot the difference between one specific accent and a bunch of others? To make things a bit easier, I narrowed the problem to a specififc binary classification problem: Can a machine learning model tell an argentinian accent apart from other global accents?\n",
    "\n",
    "Why It Matters\n",
    "Getting a computer to tell which accent is which isn't just a cool party trick. It's got some serious uses in tech, like helping voice assistants understand us better, making subtitles more accurate, and even helping people learn languages. Plus, it's a stepping stone to getting machines to deal with all kinds of accents. Let's see if we can teach a machine to pick up on the Argentinian vibe, and who knows? Maybe it'll lead to some even bigger ideas down the line."
   ]
  },
  {
   "cell_type": "markdown",
   "id": "59be495b",
   "metadata": {},
   "source": [
    "### 1: DATA COLLECTION\n",
    "The data I am working with in this project are voice notes of my friends from Minerva and voice notes of my friends from Argentina. Although I had samples of voice notes from both the groups, I decided to collect this data again to make the data cleaning process easier for me. I asked my friends to send me one to three mins recordings of them reading a book or any news article in english. All the voice recordings from my argentian friends are thus my sample for argentinian accent and the voice recordings from Minervans serves as the other accent category.\n",
    "\n",
    "This was convinient sampling as I asked a lot of my friends for the sample voice notes and used the recordings of people who sent them. In total, I had 4 samples (different people) of the argentinian accent and 7 samples of the other accent."
   ]
  },
  {
   "cell_type": "markdown",
   "id": "df229e95",
   "metadata": {},
   "source": [
    "### 2 & 3: Data Pre-processing and Feature Engineering\n",
    "I downloaded the files from my telegram and stored them in a folder in my computer. Then I renamed the audio files as Other1, Other2.. and Argentinian1, Argentinian2,.. and so on based on the accent class the audio file belonged to. \n",
    "Now, I needed to process these audio files into a format that can be read by python and also extract features of the audio that I can use as inputs for my ML models. I followed the following steps to acheive this task.\n",
    "\n",
    "1. I wrote a python script to convert all my audio files into .wav format from the original .ogg format and then store those files in a new folder."
   ]
  },
  {
   "cell_type": "markdown",
   "id": "552e9502",
   "metadata": {},
   "source": [
    "### Installing necessary libraries "
   ]
  },
  {
   "cell_type": "code",
   "execution_count": 74,
   "id": "93277f3a",
   "metadata": {},
   "outputs": [],
   "source": [
    "from pydub import AudioSegment\n",
    "import os\n",
    "os.environ['MKL_DEBUG_CPU_TYPE'] = '5' #hides unnecessary output\n",
    "import subprocess\n",
    "import seaborn as sns\n",
    "from pydub import AudioSegment\n",
    "import librosa\n",
    "import numpy as np\n",
    "import librosa.display\n",
    "import matplotlib.pyplot as plt\n",
    "import pandas as pd\n",
    "from sklearn.model_selection import train_test_split\n",
    "from sklearn.linear_model import LogisticRegression\n",
    "from sklearn.metrics import classification_report"
   ]
  },
  {
   "cell_type": "markdown",
   "id": "e37d3f66",
   "metadata": {},
   "source": [
    "### Python code to convert .ogg audio files to .wav from a source folder and store the new files in a target folder"
   ]
  },
  {
   "cell_type": "code",
   "execution_count": 75,
   "id": "2077b868",
   "metadata": {},
   "outputs": [],
   "source": [
    "# Replace the following path with the directory where ffprobe is located\n",
    "os.environ[\"PATH\"] += os.pathsep + '/opt/homebrew/bin/ffprobe'\n",
    "\n",
    "# Quietly get the version of ffmpeg\n",
    "subprocess.run([\"ffmpeg\", \"-version\"], stdout=subprocess.DEVNULL, stderr=subprocess.STDOUT)\n",
    "\n",
    "def convert_ogg_to_wav(source_folder, target_folder):\n",
    "    # Ensure the source folder exists\n",
    "    if not os.path.exists(source_folder):\n",
    "        print(f\"The folder {source_folder} does not exist.\")\n",
    "        return\n",
    "    \n",
    "    # Ensure the target folder exists, if not, create it\n",
    "    if not os.path.exists(target_folder):\n",
    "        os.makedirs(target_folder)\n",
    "        print(f\"Created the folder {target_folder}.\")\n",
    "\n",
    "    # Scan the folder for .ogg files and convert each to .wav\n",
    "    for filename in os.listdir(source_folder):\n",
    "        if filename.endswith('.ogg'):\n",
    "            ogg_path = os.path.join(source_folder, filename)\n",
    "            # Change the wav_path to point to the target folder\n",
    "            wav_path = os.path.join(target_folder, filename.replace('.ogg', '.wav'))\n",
    "            \n",
    "            # Load the .ogg audio file \n",
    "            audio = AudioSegment.from_ogg(ogg_path)\n",
    "            \n",
    "            # Export the audio file as .wav\n",
    "            audio.export(wav_path, format=\"wav\")\n",
    "            # Commented out the print statement to suppress output\n",
    "            # print(f\"Converted {filename} to WAV.\")\n",
    "\n",
    "# Replace this with the path to the folder containing your .ogg files\n",
    "source_folder = '/Users/shivamrawat/Desktop/OGGSAMPLES'\n",
    "# Replace this with your desired target folder on the desktop\n",
    "target_folder = '/Users/shivamrawat/Desktop/WAVSAMPLES'\n",
    "convert_ogg_to_wav(source_folder, target_folder)"
   ]
  },
  {
   "cell_type": "markdown",
   "id": "14217d63",
   "metadata": {},
   "source": [
    "2. I wrote python script to split those audio clips into clips of 5 seconds each to maintain consistency in my sample and increase the sample size of my data as a sample size of 11 audio clips would be too small to train my model on. Any left over audio clip of less than 5 seconds is discarded and all the new 5 second audio clips are stored in a new folder. The audio clips are also named systematically, Other1 audio clip will be split into Other1_1, Other1_2, Other1_3 and so on. The same is true for the files names Argentinian.\n",
    "### Python code to split the audio files into 5 seconds audio clips."
   ]
  },
  {
   "cell_type": "code",
   "execution_count": 76,
   "id": "d13f1fd8",
   "metadata": {},
   "outputs": [],
   "source": [
    "# Function to chop .wav files into 5-second clips\n",
    "def chop_wav_to_subclips(source_folder, target_folder, clip_length_ms=5000):\n",
    "    # Create target folder if it doesn't exist\n",
    "    if not os.path.exists(target_folder):\n",
    "        os.makedirs(target_folder)\n",
    "\n",
    "    # Process each .wav file in the source folder\n",
    "    for filename in os.listdir(source_folder):\n",
    "        if filename.endswith('.wav'):\n",
    "            wav_path = os.path.join(source_folder, filename)\n",
    "            audio = AudioSegment.from_wav(wav_path)\n",
    "            \n",
    "            # Calculate the number of 5 second chunks\n",
    "            n_chunks = len(audio) // clip_length_ms\n",
    "            for i in range(n_chunks):\n",
    "                # Calculate start and end times\n",
    "                start_time = i * clip_length_ms\n",
    "                end_time = start_time + clip_length_ms\n",
    "                # Extract the subclip\n",
    "                subclip = audio[start_time:end_time]\n",
    "                # Format the subclip filename\n",
    "                subclip_name = f\"{filename[:-4]}_{i+1:02d}.wav\"\n",
    "                subclip_path = os.path.join(target_folder, subclip_name)\n",
    "                # Export subclip\n",
    "                subclip.export(subclip_path, format=\"wav\")\n",
    "\n",
    "# Specify source and target folders\n",
    "source_folder = '/Users/shivamrawat/Desktop/WAVSAMPLES'  # Replace with your source folder path\n",
    "target_folder = '/Users/shivamrawat/Desktop/AUDIOCLIPS'  # Replace with your target folder path\n",
    "\n",
    "# Run the function\n",
    "chop_wav_to_subclips(source_folder, target_folder)\n"
   ]
  },
  {
   "cell_type": "markdown",
   "id": "a28ec59d",
   "metadata": {},
   "source": [
    "3. I wrote python code that extarcts 6 audio features (See Appendix A for details) from each of the 5 second audio clips and then all that data is stored into a .csv file along with the name of the file and the class - Argentinian or Other. Librosa library is used to extract the audio features from the .wav files. \n",
    "\n",
    "The audio features selected measures different features of a sound like loudness, pitch, range of frequencies, melody, brightness etc., and since an accent is a distintive way of pronouncing a langauge I reasoned that these features can be used to classify accent given there can be differences in these features between accents.\n"
   ]
  },
  {
   "cell_type": "markdown",
   "id": "274571e7",
   "metadata": {},
   "source": [
    "### Python code to extract audio features from the audio clips and store them in a .csv file"
   ]
  },
  {
   "cell_type": "code",
   "execution_count": 77,
   "id": "04b472b6",
   "metadata": {},
   "outputs": [],
   "source": [
    "import os\n",
    "import pandas as pd\n",
    "import librosa\n",
    "\n",
    "def extract_features_to_csv(source_folder, target_folder, csv_filename):\n",
    "    \"\"\"\n",
    "    Extract audio features from files in a source directory and save them to a CSV file.\n",
    "    \n",
    "    Parameters:\n",
    "    - source_folder: Path to the folder containing audio files.\n",
    "    - target_folder: Path to the folder where the CSV file will be saved.\n",
    "    - csv_filename: Name of the CSV file to save the features to.\n",
    "    \n",
    "    Returns:\n",
    "    - Full path to the saved CSV file.\n",
    "    \"\"\"\n",
    "    # List to hold all feature vectors\n",
    "    features_list = []\n",
    "\n",
    "    # Process each file in the source folder\n",
    "    for filename in os.listdir(source_folder):\n",
    "        if filename.endswith('.wav'):  # Check if the file is a .wav file\n",
    "            # Load the audio file\n",
    "            audio_path = os.path.join(source_folder, filename)\n",
    "            y, sr = librosa.load(audio_path)\n",
    "            \n",
    "            # Extract features using librosa\n",
    "            chroma_stft = librosa.feature.chroma_stft(y=y, sr=sr).mean()\n",
    "            spectral_centroid = librosa.feature.spectral_centroid(y=y, sr=sr).mean()\n",
    "            spectral_bandwidth = librosa.feature.spectral_bandwidth(y=y, sr=sr).mean()\n",
    "            spectral_rolloff = librosa.feature.spectral_rolloff(y=y, sr=sr).mean()\n",
    "            rmse = librosa.feature.rms(y=y).mean()\n",
    "            zero_crossing_rate = librosa.feature.zero_crossing_rate(y).mean()\n",
    "            \n",
    "            # Classify the file based on the filename\n",
    "            file_class = 'Argentinian' if 'argentinian' in filename.lower() else 'Other'\n",
    "            \n",
    "            # Append the feature vector to the list\n",
    "            features_list.append([filename, chroma_stft, spectral_centroid, spectral_bandwidth,\n",
    "                                  spectral_rolloff, rmse, zero_crossing_rate, file_class])\n",
    "    \n",
    "    # Create a DataFrame from the features list\n",
    "    features_df = pd.DataFrame(features_list, columns=['file_name', 'chroma_stft', 'spectral_centroid', \n",
    "                                                       'spectral_bandwidth', 'spectral_rolloff', 'rmse',\n",
    "                                                       'zero_crossing_rate', 'class'])\n",
    "    \n",
    "    # Create the target folder if it doesn't exist\n",
    "    if not os.path.exists(target_folder):\n",
    "        os.makedirs(target_folder)\n",
    "\n",
    "    # Save the DataFrame to a CSV file\n",
    "    full_csv_path = os.path.join(target_folder, csv_filename)\n",
    "    features_df.to_csv(full_csv_path, index=False)\n",
    "    return full_csv_path\n",
    "\n",
    "# File paths\n",
    "source_folder = '/Users/shivamrawat/Desktop/AUDIOCLIPS'\n",
    "target_folder = '/Users/shivamrawat/Desktop/AUDIODATA'\n",
    "csv_filename = 'audio_featuresx.csv'\n",
    "\n",
    "# Extract features and save to CSV\n",
    "extracted_csv_path = extract_features_to_csv(source_folder, target_folder, csv_filename)\n",
    "# Output the path to the saved CSV file"
   ]
  },
  {
   "cell_type": "markdown",
   "id": "b69a1f1b",
   "metadata": {},
   "source": [
    "<img src = https://i.imgur.com/3CniJor.png\\ width = \"500\" height = \"500\" > \n",
    "<div style='text-align: center;'>\n",
    "  Figure 1: Sample image to show how audio features data is stored in the .csv file after extraction\n",
    "</div"
   ]
  },
  {
   "cell_type": "markdown",
   "id": "2bfbb219",
   "metadata": {},
   "source": [
    "I also created a corrogram of the six features to see for collinearity. As we can see the the figure below, some of the features seem to be correlated. These consideration can be used for feature selection but for the first assignment I decided to ignore these nuances and will be doing think line PCA in the upcoming assignments. \n",
    "### Code to create the Corrogram"
   ]
  },
  {
   "cell_type": "code",
   "execution_count": null,
   "id": "b9f85d9b",
   "metadata": {},
   "outputs": [],
   "source": [
    "import pandas as pd\n",
    "import seaborn as sns\n",
    "import matplotlib.pyplot as plt\n",
    "\n",
    "# Load the dataset\n",
    "data = pd.read_csv('/Users/shivamrawat/Desktop/AUDIODATA/audio_featuresx.csv')\n",
    "\n",
    "# Assuming 'data' is your DataFrame and 'file_name' is the name of the column you want to remove\n",
    "data = data.drop('file_name', axis=1)\n",
    "\n",
    "# Map 'class' to colors\n",
    "palette = {\"Other\": \"orange\", \"Argentinian\": \"blue\"}\n",
    "\n",
    "# Draw the pairplot with the specified colors for the 'class' column\n",
    "sns.pairplot(data, hue='class', palette=palette)\n",
    "\n",
    "# Show the plot\n",
    "plt.show()"
   ]
  },
  {
   "cell_type": "markdown",
   "id": "9728b3c0",
   "metadata": {},
   "source": [
    "<img src = https://i.imgur.com/C3L0H7m.png\\ width = \"500\" height = \"500\" > \n",
    "<div style='text-align: center;'>\n",
    "  Figure 2: Corrogram for the Audio features\n",
    "</div"
   ]
  },
  {
   "cell_type": "markdown",
   "id": "097f36d0",
   "metadata": {},
   "source": [
    "### 4: Discussing the task \n",
    "We can see based on the corrogram, there are places where we can draw a boundry between the two classes. So, I will be using a logistic regression to classify an audio clip into the category of either argentinian accent or other accent. \"Other accent\" here refers to any accent other than argentinian. To use a logistic regression for my model,\n",
    "\n",
    "To train the machine learning model I divided my data from the audio_features.csv file into a training/testing class with a 75/25 split.\n",
    "\n",
    "Note: Since the length of the intial audio samples were varible and I later split them into 5 second clips, there is a high probability that I have an unequal amounut of samples in the two classes. This can introduce bias in my model so to tackle this problem I used undersampling. Undersampling works by reducing the size of the majority class to match the minority class. This is done by randomly removing instances from the majority class, or by using more sophisticated methods that aim to retain as much information as possible, such as Tomek links or Centroid-Based Undersampling. In my code, I have implemented the simple undersampling method where the majority class samples are reduced to the minority class by random sampling."
   ]
  },
  {
   "cell_type": "markdown",
   "id": "b1edb87c",
   "metadata": {},
   "source": [
    "### Python code to split the data into training and testing data and balance the two classes usign undersampling."
   ]
  },
  {
   "cell_type": "code",
   "execution_count": 79,
   "id": "4887dbd9",
   "metadata": {},
   "outputs": [],
   "source": [
    "import pandas as pd\n",
    "from sklearn.model_selection import train_test_split\n",
    "from sklearn.linear_model import LogisticRegression\n",
    "from sklearn.metrics import classification_report\n",
    "from imblearn.under_sampling import RandomUnderSampler\n",
    "\n",
    "# Load the dataset\n",
    "data = pd.read_csv('/Users/shivamrawat/Desktop/AUDIODATA/audio_featuresx.csv')  # Replace with \n",
    "#the actual path to the CSV file\n",
    "data = data.drop('file_name', axis=1)\n",
    "\n",
    "# Ensure the 'Class' column exists and correct the column name if necessary\n",
    "class_column = 'class'  # Replace with the actual name of the class column\n",
    "\n",
    "if class_column not in data.columns:\n",
    "    raise ValueError(f\"The column {class_column} was not found in the DataFrame.\")\n",
    "\n",
    "# Prepare the data for logistic regression\n",
    "X = data.drop(class_column, axis=1)  # Predictors\n",
    "y = data[class_column].apply(lambda x: 1 if x == 'Argentinian' else 0)  # Binary classification\n",
    "\n",
    "# Initialize the RandomUnderSampler\n",
    "rus = RandomUnderSampler(random_state=42)\n",
    "\n",
    "# Resample the dataset\n",
    "X_resampled, y_resampled = rus.fit_resample(X, y)\n",
    "\n",
    "# Split the dataset into training and test sets\n",
    "X_train, X_test, y_train, y_test = train_test_split(X_resampled,\n",
    "                    y_resampled, test_size=0.20, random_state=42)"
   ]
  },
  {
   "cell_type": "markdown",
   "id": "195968a1",
   "metadata": {},
   "source": [
    "### 5: Model Selection - Logistic Regression"
   ]
  },
  {
   "cell_type": "markdown",
   "id": "1882fb6e",
   "metadata": {},
   "source": [
    "We can break down the math of predicting the binary class - argentinian accent vs. other - from audio features using logistic regression.\n",
    "\n",
    "The aim of the logistic regression model is to return a probability of an event occuring (a sample audio belonging to the argentinian class in our model) based on some independent varibles like the audio features (X vector of audio features). So, let's say p(X) is a linear function that returns that probability, but since p(X) is a unbounded linear eqaution it cannot be in the range of 0 to 1, which is required for something to be expressed in terms of probabilities. \n",
    "\n",
    "To address this issue, we instead say that the log odds of the probability p(X) is a linear function, \n",
    "So,\n",
    "\n",
    "\\begin{equation}\n",
    "\\log(\\frac{p(X)}{1-p(X)}) = b + w^T X\n",
    "\\end{equation}\n",
    "\n",
    "Now we can solve for p(X),\n",
    "\n",
    "\\begin{equation}\n",
    "p(X) = \\frac{e^{(b + w^T X)}}{1+e^{(b + w^T X)}}\n",
    "\\end{equation}\n",
    "\n",
    "In the model, we have two outcomes, Y = 1 is the accent is argentinian or Y = 0 if the accent is other and since we wrote this equation as the probability of sample audio belonging to the argentinian accent. We can write:\n",
    "\n",
    "\\begin{equation}\n",
    "p(Y=1|X) = \\frac{e^{(b + w^T X)}}{1+e^{(b + w^T X)}}\n",
    "\\end{equation}\n",
    "\n",
    "In this equation,\n",
    "\n",
    "p(Y=1|X): This denotes the probability that the dependent variable Y is equal to 1 (the event happens) given the predictors X. In the context of binary classification, this is the probability that a given observation falls into the positive class.\n",
    "\n",
    "b: Represents the bias term, also known as the intercept in the logistic regression model. It's like the starting point before any features are considered.\n",
    "\n",
    "w: A vector of weights corresponding to the features in X. These weights are coefficients that determine how much influence each feature has on the prediction.\n",
    "\n",
    "$w^TX$ :The transpose of the weight vector w multiplied by the feature vector X represents the linear combination of the predictors. This is essentially a dot product that gives a single number for each observation.\n",
    "\n",
    "$ \\frac{e^{z}}{1+e^{z}} $\n",
    ": This is the logistic (sigmoid) function itself. It takes the exponential transformation and normalizes it so that the output is between 0 and 1, suitable for probability interpretation. $z = (b + w^T X)$. The sigmoid function is S-shaped and can take any real-valued number from the linear combination of inputs and map it to a value between 0 and 1, providing the foundation for logistic regression to serve as a probability estimator in binary classification tasks.\n",
    "\n",
    "Once, we have the classification eqautions as above we can predict the probabilty of an audio clip belonging to the argentinian class based on its audio features and classify the audio clip as it as one belonging to the argentinian accent if the probability is > 0.5.\n",
    "\n",
    "The core of the learning step in logistic regression based ML is to find the values of weights and biases for the logistic regression equation. The logistic regression algorithm does so using maximum likelihood estimation method, that optimises the weights by minimising the difference in the predicted probabilities and actual values of Y in our data. \n",
    "\n",
    "### Loss funtion\n",
    "\n",
    "The above mentioned difference is quantified using the loss function known as the binary cross-entropy loss, also known as the log loss. As mentioned before, it quantifies the difference between the predicted probabilities and the actual binary outcomes\n",
    "\n",
    "For a set of observations $(x^{(i)}, y^{(i)})$, where $x^{(i)}$ are the features and $y^{(i)}$ is the binary target variable that takes the value 1 for the positive class and 0 for the negative class, the loss for a single observation is defined as:\n",
    "\n",
    "\\begin{equation}\n",
    "L(y^{(i)}, p^{(i)}) = -\\left[y^{(i)} \\log(p^{(i)}) + (1 - y^{(i)}) \\log(1 - p^{(i)})\\right]\n",
    "\\end{equation}\n",
    "\n",
    "where $p^{(i)}$ is the predicted probability of the observation $x^{(i)}$ being in the positive class, calculated using the logistic regression model, and $\\log$ is the natural logarithm.\n",
    "\n",
    "For the entire dataset, the loss function is the average of the individual losses over all observations:\n",
    "\n",
    "\\begin{equation}\n",
    "J(\\mathbf{w}) = -\\frac{1}{m} \\sum_{i=1}^{m} \\left[y^{(i)} \\log(p^{(i)}) + (1 - y^{(i)}) \\log(1 - p^{(i)})\\right]\n",
    "\\end{equation}\n",
    "\n",
    "where $m$ is the total number of observations and $\\mathbf{w}$ represents the parameters of the model (weights and bias). The goal of logistic regression is to find the parameters $\\mathbf{w}$ that minimize this cost function. This is typically done using optimization algorithms such as gradient descent. By minimizing this loss, the model's parameters are adjusted to improve the accuracy of the predictions on the training data.\n"
   ]
  },
  {
   "cell_type": "markdown",
   "id": "1441cc70",
   "metadata": {},
   "source": [
    "### 6: Model training, Cross-validation and Hyperparameter tuning\n",
    "\n",
    "For the logistic regression model, I trained the model using the training data and then used grid search to tune the hyperparameters in the model and finally used k-fold cross validation with k = 20 to find the training accuracy of the data."
   ]
  },
  {
   "cell_type": "markdown",
   "id": "8971bc54",
   "metadata": {},
   "source": [
    "### Code for training the logistic regression model"
   ]
  },
  {
   "cell_type": "code",
   "execution_count": 117,
   "id": "ce759605",
   "metadata": {},
   "outputs": [
    {
     "name": "stdout",
     "output_type": "stream",
     "text": [
      "150 150 38 38\n"
     ]
    }
   ],
   "source": [
    "from sklearn.metrics import confusion_matrix, ConfusionMatrixDisplay\n",
    "\n",
    "# Initialize and train the logistic regression model\n",
    "model = LogisticRegression(max_iter = 1000)\n",
    "\n",
    "model.fit(X_train, y_train)"
   ]
  },
  {
   "cell_type": "markdown",
   "id": "c73bcb1b",
   "metadata": {},
   "source": [
    "### Code for doing Grid Search for Hyperparamter tuning "
   ]
  },
  {
   "cell_type": "code",
   "execution_count": 106,
   "id": "11364136",
   "metadata": {},
   "outputs": [
    {
     "name": "stdout",
     "output_type": "stream",
     "text": [
      "Best Parameters: {'C': 10, 'penalty': 'l1', 'solver': 'liblinear'}\n",
      "Best Score: 0.7\n"
     ]
    }
   ],
   "source": [
    "from sklearn.model_selection import GridSearchCV\n",
    "from sklearn.linear_model import LogisticRegression\n",
    "\n",
    "param_grid = {\n",
    "    'C': [0.001, 0.01, 0.1, 1, 10, 100],  # Regularization parameter\n",
    "    'penalty': ['l1', 'l2'],  # Norm used in the penalization\n",
    "    'solver': ['liblinear']  # Algorithm to use for optimization\n",
    "}\n",
    "\n",
    "# Initialize the GridSearchCV object\n",
    "grid_search = GridSearchCV(model, param_grid, cv=5, scoring='accuracy')\n",
    "\n",
    "# Fit the grid search to the data\n",
    "grid_search.fit(X_train, y_train)\n",
    "\n",
    "# Get the best parameters and the best score\n",
    "best_parameters = grid_search.best_params_\n",
    "best_score = grid_search.best_score_\n",
    "\n",
    "print(\"Best Parameters:\", best_parameters)\n",
    "print(\"Best Score:\", best_score)"
   ]
  },
  {
   "cell_type": "markdown",
   "id": "06022d6e",
   "metadata": {},
   "source": [
    "### Implementation of k-fold Cross Validation"
   ]
  },
  {
   "cell_type": "code",
   "execution_count": 112,
   "id": "c57a2711",
   "metadata": {},
   "outputs": [
    {
     "name": "stdout",
     "output_type": "stream",
     "text": [
      "Mean cross-validation score: 0.7294444444444445\n"
     ]
    }
   ],
   "source": [
    "from sklearn.model_selection import KFold, cross_val_score\n",
    "\n",
    "# Initialize a k-fold object\n",
    "kf = KFold(n_splits=20, shuffle=True, random_state=42)\n",
    "\n",
    "# Initialize the logistic regression model\n",
    "# Hyperparameters\n",
    "tuned_model = LogisticRegression(C = 10, penalty = 'l1',solver = \"liblinear\",max_iter=1000)\n",
    "\n",
    "# Perform k-fold cross-validation\n",
    "cv_scores = cross_val_score(tuned_model, X_resampled, y_resampled, cv=kf)\n",
    "\n",
    "# Print the mean of the cross-validation scores\n",
    "print(\"Mean cross-validation score:\", cv_scores.mean())"
   ]
  },
  {
   "cell_type": "markdown",
   "id": "5065ff56",
   "metadata": {},
   "source": [
    "### 7 & 8: Predictions and Performance metrics\n",
    "\n",
    "The model performed better than I was expecting since the sample size of my intial data was not very big but I think chopping my audio clips into size of 5 seconds was able to overcome that limitation to an extent as 5 seconds in not too short of a time to capture the differences in audio features for different accents. \n",
    "\n",
    "After hyperparameter tuning I got a accuracy of 63% which is good in the sense that it means our model is not taking random guesses as that would have resulted in a accuracy of 50% given our test data was balanced for the two classes. Moreover, the recall and precision percentage of the model was also not very different, this indicates that the model is not biased towards one class. Right now, their is not much importance for the consideration of these metrics given i am not using this model for any real world application but in the case that this model is used in the real world for identifying multiple accents, it will be ideal to have an equal true positive and false positive rate for both classes as otherwise it can lead to biased results of a particular accent speaking group.\n",
    "\n",
    "Given my model's result it is still very important to note that the representation of argentinian accent and other accents in my sample was very limited and it is high likely that my model is only good as classifying those subset of accents from each other and might perform worse when it is deployed in the real world. For ex, the four argentinian accent samples in my data were from people from Buenos Aires and as there are differences in accent of people in a country based on different regions, it is possible that the accuracy of my model might decrease id tested on those samples."
   ]
  },
  {
   "cell_type": "code",
   "execution_count": 83,
   "id": "bfd6454c",
   "metadata": {},
   "outputs": [
    {
     "name": "stdout",
     "output_type": "stream",
     "text": [
      "              precision    recall  f1-score   support\n",
      "\n",
      "           0       0.62      0.68      0.65        19\n",
      "           1       0.65      0.58      0.61        19\n",
      "\n",
      "    accuracy                           0.63        38\n",
      "   macro avg       0.63      0.63      0.63        38\n",
      "weighted avg       0.63      0.63      0.63        38\n",
      "\n"
     ]
    }
   ],
   "source": [
    "# Predict the test set\n",
    "tuned_model.fit(X_train, y_train)\n",
    "y_pred = tuned_model.predict(X_test)\n",
    "\n",
    "# Print the classification report\n",
    "print(classification_report(y_test, y_pred))"
   ]
  },
  {
   "cell_type": "markdown",
   "id": "96a26275",
   "metadata": {},
   "source": [
    "### Code for generating Confusion Matrix"
   ]
  },
  {
   "cell_type": "code",
   "execution_count": 84,
   "id": "8968fc78",
   "metadata": {},
   "outputs": [
    {
     "data": {
      "image/png": "[encoded data removed]",
      "text/plain": [
       "<Figure size 640x480 with 2 Axes>"
      ]
     },
     "metadata": {},
     "output_type": "display_data"
    }
   ],
   "source": [
    "# Generate the confusion matrix\n",
    "cm = confusion_matrix(y_test, y_pred)\n",
    "\n",
    "# Create and plot the confusion matrix display object\n",
    "disp = ConfusionMatrixDisplay(confusion_matrix=cm, display_labels=tuned_model.classes_)\n",
    "disp.plot()\n",
    "\n",
    "plt.title('Confusion Matrix')\n",
    "plt.show()"
   ]
  },
  {
   "cell_type": "markdown",
   "id": "d93a77e2",
   "metadata": {},
   "source": [
    "### Code for ROC curve"
   ]
  },
  {
   "cell_type": "code",
   "execution_count": 85,
   "id": "88dce0b1",
   "metadata": {},
   "outputs": [
    {
     "data": {
      "image/png": "[encoded data removed]",
      "text/plain": [
       "<Figure size 640x480 with 1 Axes>"
      ]
     },
     "metadata": {},
     "output_type": "display_data"
    }
   ],
   "source": [
    "from sklearn.metrics import roc_curve, auc\n",
    "import matplotlib.pyplot as plt\n",
    "\n",
    "\n",
    "# Predict probabilities for the test set\n",
    "y_probs = tuned_model.predict_proba(X_test)[:, 1]  # Probability estimates for the positive class\n",
    "\n",
    "# Compute ROC curve and ROC area\n",
    "fpr, tpr, _ = roc_curve(y_test, y_probs)\n",
    "roc_auc = auc(fpr, tpr)\n",
    "\n",
    "# Plot ROC curve\n",
    "plt.figure()\n",
    "plt.plot(fpr, tpr, color='darkorange', lw=2, label=f'ROC curve (area = {roc_auc:.2f})')\n",
    "plt.plot([0, 1], [0, 1], color='navy', lw=2, linestyle='--')\n",
    "plt.xlim([0.0, 1.0])\n",
    "plt.ylim([0.0, 1.05])\n",
    "plt.xlabel('False Positive Rate')\n",
    "plt.ylabel('True Positive Rate')\n",
    "plt.title('Receiver Operating Characteristic')\n",
    "plt.legend(loc=\"lower right\")\n",
    "plt.show()\n"
   ]
  },
  {
   "cell_type": "markdown",
   "id": "8b891732",
   "metadata": {},
   "source": [
    "## Repeating the process with Random forest"
   ]
  },
  {
   "cell_type": "markdown",
   "id": "17049101",
   "metadata": {},
   "source": [
    "Just as an extension and for comparision, I also used a Random Forest model to do the classification task. A Random Forest is an ensemble learning method that operates by constructing multiple decision trees during training and outputting the class that is the mode of the classes from individual trees. It can be used for both classification and regression tasks.\n",
    "\n",
    "I will be not going into the depths of random forest in this assignment as I have already used too much time on this assignemnt but based on the test results of using Random Forest I saw a huge increase in the accuracy of my model.\n",
    "\n",
    "The test accuracy of the RF model was 82%, I am not entirely sure of the reason of this huge jump in accuracy but I think this can be because RF handle multicollinearity better than logistic regression and as we saw in the corrogram plot before their were some instances of multicollinearity that I intentionally ignored for this assignment."
   ]
  },
  {
   "cell_type": "code",
   "execution_count": 86,
   "id": "29c1e268",
   "metadata": {},
   "outputs": [
    {
     "name": "stdout",
     "output_type": "stream",
     "text": [
      "\n"
     ]
    }
   ],
   "source": [
    "from sklearn.ensemble import RandomForestClassifier\n",
    "\n",
    "# Initialize and train the RandomForestClassifier\n",
    "rf_model = RandomForestClassifier()\n",
    "rf_model.fit(X_train, y_train)\n",
    "print(\"\")"
   ]
  },
  {
   "cell_type": "markdown",
   "id": "56fb48af",
   "metadata": {},
   "source": [
    "### Hyperparamter tuning for Random Forest Model"
   ]
  },
  {
   "cell_type": "code",
   "execution_count": 88,
   "id": "8c192109",
   "metadata": {},
   "outputs": [
    {
     "name": "stdout",
     "output_type": "stream",
     "text": [
      "Best Parameters: {'bootstrap': True, 'max_depth': 10, 'min_samples_leaf': 1, 'min_samples_split': 2, 'n_estimators': 10}\n",
      "Best Score: 0.8187766714082503\n"
     ]
    }
   ],
   "source": [
    "os.environ['MKL_DEBUG_CPU_TYPE'] = '5' #hides unnecessary output\n",
    "from sklearn.model_selection import GridSearchCV\n",
    "from sklearn.ensemble import RandomForestClassifier\n",
    "\n",
    "# Assuming X_resampled and y_resampled are already defined and \n",
    "are your features and labels after undersampling\n",
    "\n",
    "# Define the parameter grid for RandomForestClassifier\n",
    "param_grid = {\n",
    "    'n_estimators': [10, 50, 100, 200],  # Number of trees in the forest\n",
    "    'max_depth': [None, 5, 10, 15],       # Maximum depth of the trees\n",
    "    'min_samples_split': [2, 5, 10],      # Minimum number of samples required to split a node\n",
    "    'min_samples_leaf': [1, 2, 4],        # Minimum number of samples required at each leaf node\n",
    "    'bootstrap': [True, False]            # Method for sampling data points\n",
    "}\n",
    "\n",
    "# Initialize the RandomForestClassifier\n",
    "rf_model = RandomForestClassifier(random_state=0)\n",
    "\n",
    "# Initialize the GridSearchCV object\n",
    "grid_search = GridSearchCV(estimator=rf, param_grid=param_grid, cv=5, n_jobs=-1, verbose=0)\n",
    "\n",
    "# Fit the grid search to the data\n",
    "grid_search.fit(X_resampled, y_resampled)\n",
    "\n",
    "# Get the best parameters and the best score\n",
    "best_params = grid_search.best_params_\n",
    "best_score = grid_search.best_score_\n",
    "\n",
    "print(\"Best Parameters:\", best_params)\n",
    "print(\"Best Score:\", best_score)\n"
   ]
  },
  {
   "cell_type": "markdown",
   "id": "b0433ec5",
   "metadata": {},
   "source": [
    "### K-fold Cross-Validation for Random Forest Model"
   ]
  },
  {
   "cell_type": "code",
   "execution_count": 104,
   "id": "0534171e",
   "metadata": {},
   "outputs": [
    {
     "name": "stdout",
     "output_type": "stream",
     "text": [
      "Mean CV Score: 0.8344\n"
     ]
    }
   ],
   "source": [
    "from sklearn.model_selection import cross_val_score\n",
    "from sklearn.ensemble import RandomForestClassifier\n",
    "\n",
    "# Assuming X_resampled and y_resampled are your features and labels after undersampling\n",
    "# Initialize a k-fold object\n",
    "kf = KFold(n_splits=20, shuffle=True, random_state=42)\n",
    "\n",
    "# Initialize the RandomForestClassifier\n",
    "rf_tuned_model = RandomForestClassifier(random_state=0, bootstrap = True, max_depth = 10, \\\n",
    "                                        min_samples_leaf = 1, min_samples_split = 2, n_estimators = 10)\n",
    "# Perform 5-fold cross-validation\n",
    "\n",
    "cv_scores = cross_val_score(rf_tuned_model, X_resampled, y_resampled, cv=kf,verbose = 0)\n",
    "\n",
    "# Output the mean of the cross-validation scores\n",
    "mean_cv_score = cv_scores.mean()\n",
    "\n",
    "print(f'Mean CV Score: {mean_cv_score:.4f}')\n"
   ]
  },
  {
   "cell_type": "code",
   "execution_count": 99,
   "id": "cd648169",
   "metadata": {},
   "outputs": [
    {
     "name": "stdout",
     "output_type": "stream",
     "text": [
      "              precision    recall  f1-score   support\n",
      "\n",
      "           0       0.77      0.89      0.83        19\n",
      "           1       0.88      0.74      0.80        19\n",
      "\n",
      "    accuracy                           0.82        38\n",
      "   macro avg       0.82      0.82      0.81        38\n",
      "weighted avg       0.82      0.82      0.81        38\n",
      "\n"
     ]
    }
   ],
   "source": [
    "# Predict the test set\n",
    "rf_tuned_model.fit(X_train, y_train)\n",
    "y_pred = rf_tuned_model.predict(X_test)\n",
    "\n",
    "# Print the classification report\n",
    "print(classification_report(y_test, y_pred))"
   ]
  },
  {
   "cell_type": "markdown",
   "id": "d83f39bc",
   "metadata": {},
   "source": [
    "### Confusion matrix for Random Forest Model"
   ]
  },
  {
   "cell_type": "code",
   "execution_count": 91,
   "id": "8216ec59",
   "metadata": {},
   "outputs": [
    {
     "data": {
      "image/png": "[encoded data removed]",
      "text/plain": [
       "<Figure size 640x480 with 2 Axes>"
      ]
     },
     "metadata": {},
     "output_type": "display_data"
    }
   ],
   "source": [
    "# Generate the confusion matrix\n",
    "cm = confusion_matrix(y_test, y_pred)\n",
    "\n",
    "# Create and plot the confusion matrix display object\n",
    "disp = ConfusionMatrixDisplay(confusion_matrix=cm, display_labels=rf_tuned_model.classes_)\n",
    "disp.plot()\n",
    "\n",
    "plt.title('Confusion Matrix')\n",
    "plt.show()"
   ]
  },
  {
   "cell_type": "markdown",
   "id": "4ee12d52",
   "metadata": {},
   "source": [
    "### ROC Curve for Random Forest"
   ]
  },
  {
   "cell_type": "code",
   "execution_count": 92,
   "id": "62034e8d",
   "metadata": {},
   "outputs": [
    {
     "data": {
      "image/png": "[encoded data removed]",
      "text/plain": [
       "<Figure size 640x480 with 1 Axes>"
      ]
     },
     "metadata": {},
     "output_type": "display_data"
    }
   ],
   "source": [
    "# Predict probabilities for the test set\n",
    "y_probs = rf_tuned_model.predict_proba(X_test)[:, 1]  # Probability estimates for the positive class\n",
    "\n",
    "# Compute ROC curve and ROC area\n",
    "fpr, tpr, _ = roc_curve(y_test, y_probs)\n",
    "roc_auc = auc(fpr, tpr)\n",
    "\n",
    "# Plot ROC curve\n",
    "plt.figure()\n",
    "plt.plot(fpr, tpr, color='darkorange', lw=2, label=f'ROC curve (area = {roc_auc:.2f})')\n",
    "plt.plot([0, 1], [0, 1], color='navy', lw=2, linestyle='--')\n",
    "plt.xlim([0.0, 1.0])\n",
    "plt.ylim([0.0, 1.05])\n",
    "plt.xlabel('False Positive Rate')\n",
    "plt.ylabel('True Positive Rate')\n",
    "plt.title('Receiver Operating Characteristic')\n",
    "plt.legend(loc=\"lower right\")\n",
    "plt.show()"
   ]
  },
  {
   "cell_type": "markdown",
   "id": "385bbfc0",
   "metadata": {},
   "source": [
    "### 9: Executive Summary\n",
    "In this pipeline, I created a ML pipeline to distinguish between argentinian accent from any other accent from sample of audio clips collected from Minervans and native Argentinian people. Librosa library was used to extract 6 different audio features from the audio clips that served as the data for model training. I used two models in this assignment - logistic regression and random forest and found that random forest did significantly better than the logistic regression model (62 vs 82% test accuracy).\n",
    "\n",
    "For the upcoming pipelines, I will spend more time on feature selection based on exploration of data to see how that can improve my results and also create synthetic data to create more training samples. I will be exloring more models like CNN in the upcoming assignments to see how well they perform for accent classification task."
   ]
  },
  {
   "cell_type": "markdown",
   "id": "f1fc4f51",
   "metadata": {},
   "source": [
    "<img src = https://i.imgur.com/Nq6w4DF.png\\ width = \"500\" height = \"500\" > \n",
    "<div style='text-align: center;'>\n",
    "  Figure 3: Simplified pre-processing and feature engineering pipeline\n",
    "</div"
   ]
  },
  {
   "cell_type": "markdown",
   "id": "502bd729",
   "metadata": {},
   "source": [
    "### 10: References\n",
    "Librosa. librosa. (n.d.). https://librosa.org/doc/latest/index.html \n",
    "\n",
    "M, R. A. (2019, July 5). Audio files to dataset by feature extraction with librosa. Medium. https://medium.com/@alexandro.ramr777/audio-files-to-dataset-by-feature-extraction-with-librosa-d87adafe5b64 \n",
    "\n",
    "Pandita, S. (2021, May 29). Music genre classification using Random Forest. Medium. https://medium.com/hackerdawn/music-genre-classification-using-random-forest-219fc2446666 \n",
    "\n",
    "Rai, K. (2020b, June 14). The math behind logistic regression. Medium. https://medium.com/analytics-vidhya/the-math-behind-logistic-regression-c2f04ca27bca\n",
    "\n",
    "Random forests Leo Breiman and Adele Cutler. Random forests - classification description. (n.d.). https://www.stat.berkeley.edu/~breiman/RandomForests/cc_home.htm \n",
    "\n",
    "Tanuwidjaja, O. (2022, January 22). Get To Know Audio Feature Extraction in Python - Towards\n",
    "Data Science. Medium. https://towardsdatascience.com/get-to-know-audio-feature-extraction-in-python-a499fdae fe42\n",
    "\n",
    "\n",
    "\n"
   ]
  },
  {
   "cell_type": "markdown",
   "id": "a0ea7f02",
   "metadata": {},
   "source": [
    "AI statement: I used AI to write, comment and provide docstrings for multiple instances of code I have used in this assignment but it is important to note that it was not always correct or gave the right output and to resolve that I read the documentation for libraries used to resolve any discrepancy and learn more about the code itself. I also used code to explain in a lot of terms and jargon I came across while doing this assignment. I also used AI for editing my paragraphs."
   ]
  },
  {
   "cell_type": "markdown",
   "id": "23c5a5d1",
   "metadata": {},
   "source": [
    "### Appendix A: Audio Features used in the model\n",
    "\n",
    "1. Chroma STFT (Short-Time Fourier Transform): This feature represents the energy distribution of the audio signal over 12 different pitch classes (like the 12 different notes on a piano). It is often used in music to analyze the harmonic content.\n",
    "\n",
    "2. Spectral Centroid: This is a measure that indicates where the \"center of mass\" of the spectrum is located. In simple terms, it gives a sense of the \"brightness\" of a sound, with higher values typically corresponding to \"brighter\" sounds with higher frequencies being more prominent.\n",
    "\n",
    "3. Spectral Bandwidth: This refers to the width of the band of light from the spectrum that is emitted by the source. In audio analysis, it is often used to describe the range within which most of the energy of a sound is contained, which is indicative of the sound's \"fullness.\"\n",
    "\n",
    "4. Spectral Rolloff: This is a measure of the shape of the signal's spectrum. It represents the frequency below which a certain percentage of the total spectral energy, typically 85% to 95%, is contained. It can be used to distinguish between harmonic (musical) and noisy sounds.\n",
    "\n",
    "5. RMSE (Root Mean Square Energy): This is a measure of the power or energy of the audio signal. Higher values mean the signal has more energy, and it's often associated with the loudness of the sound.\n",
    "\n",
    "6. Zero Crossing Rate: This feature measures the rate at which the signal changes sign or \"crosses zero.\" It is often indicative of the noisiness or the frequency content of the sound, with higher rates usually associated with more complex sounds like speech or music.\n",
    "\n",
    "These features are calculated over short time frames and are often averaged (as shown in your code) to provide a single value that summarizes the feature over the entire audio clip. They provide a snapshot of different characteristics of the sound that can be used to classify or cluster audio recordings effectively."
   ]
  }
 ],
 "metadata": {
  "kernelspec": {
   "display_name": "Python 3 (ipykernel)",
   "language": "python",
   "name": "python3"
  },
  "language_info": {
   "codemirror_mode": {
    "name": "ipython",
    "version": 3
   },
   "file_extension": ".py",
   "mimetype": "text/x-python",
   "name": "python",
   "nbconvert_exporter": "python",
   "pygments_lexer": "ipython3",
   "version": "3.10.10"
  }
 },
 "nbformat": 4,
 "nbformat_minor": 5
}
